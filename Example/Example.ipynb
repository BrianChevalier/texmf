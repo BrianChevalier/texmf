{
 "cells": [
  {
   "cell_type": "markdown",
   "metadata": {},
   "source": [
    "# Motivation\n",
    "\n",
    "Many great tools exist to author technical documents including writing directly in \\LaTeX. However, writing in a lower level typesetting syntax reduces the portability of authored documents. Jupyter and specifically JupyterLab is a great, extensible environment for authoring Jupyter Notebooks and other document types that integrates a subset of \\LaTeX, Markdown and hundreds of programming languages."
   ]
  },
  {
   "cell_type": "markdown",
   "metadata": {},
   "source": [
    "# Integrating Python & Code"
   ]
  },
  {
   "cell_type": "code",
   "execution_count": 3,
   "metadata": {},
   "outputs": [],
   "source": [
    "import matplotlib.pyplot as plt\n",
    "import numpy as np"
   ]
  },
  {
   "cell_type": "markdown",
   "metadata": {},
   "source": [
    "# Gotchas\n",
    "No solution is perfect. The tradeoff to using a higher level typsetting syntax is less flexibility and access to lower level macros. The \\LaTeX community is also very well established with best practices, tutorials, and guidelines on how to do very common things (such as citations)."
   ]
  }
 ],
 "metadata": {
  "kernelspec": {
   "display_name": "Python 3",
   "language": "python",
   "name": "python3"
  },
  "language_info": {
   "codemirror_mode": {
    "name": "ipython",
    "version": 3
   },
   "file_extension": ".py",
   "mimetype": "text/x-python",
   "name": "python",
   "nbconvert_exporter": "python",
   "pygments_lexer": "ipython3",
   "version": "3.7.0"
  },
  "latex_metadata": {
   "author": "Brian Chevalier",
   "coursenum": "CEE212",
   "coursetitle": "Engineering Dynamics",
   "subtitle": "Subtitle",
   "title": "Rigid Body Dynamics",
   "university": "gitMechanics"
  }
 },
 "nbformat": 4,
 "nbformat_minor": 2
}
